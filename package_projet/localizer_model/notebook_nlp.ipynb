{
 "cells": [
  {
   "cell_type": "code",
   "execution_count": 1,
   "metadata": {},
   "outputs": [],
   "source": [
    "import spacy\n",
    "\n",
    "# Utilisation du model nlp\n",
    " \n",
    "import os\n",
    "try:\n",
    "    os.chdir(\"localizer_model/\")\n",
    "except: \n",
    "    pass\n",
    "\n",
    "from scripts import create_matcher_model\n",
    "\n",
    "nlp = spacy.load(\"temp/nlp_regex\")\n",
    "phrase1 = \"j'aimerais partir de Paris et passer par biarritz pour me rendre à Marseille\"\n",
    "doc = nlp(phrase1)"
   ]
  },
  {
   "cell_type": "code",
   "execution_count": 2,
   "metadata": {},
   "outputs": [
    {
     "name": "stdout",
     "output_type": "stream",
     "text": [
      "(aimerais, Paris, biarritz, Marseille)\n",
      "Paris DEPARTURE\n",
      "biarritz STEPS\n",
      "Marseille DESTINATION\n"
     ]
    }
   ],
   "source": [
    "print(doc.ents)\n",
    "\n",
    "print(doc.ents[1], doc.ents[1].label_)\n",
    "print(doc.ents[2], doc.ents[2].label_)\n",
    "print(doc.ents[3], doc.ents[3].label_)"
   ]
  },
  {
   "cell_type": "code",
   "execution_count": 5,
   "metadata": {},
   "outputs": [],
   "source": [
    "# Utilisation du model nlp xgb\n",
    " \n",
    "import os\n",
    "try:\n",
    "    os.chdir(\"localizer_model/\")\n",
    "except: \n",
    "    pass\n",
    "\n",
    "from scripts import create_xgboost_model\n",
    "\n",
    "\n",
    "nlp = spacy.load(\"temp/nlp_xgb\")\n",
    "phrase1 = \"j'aimerais partir de Paris et passer par biarritz pour me rendre à Marseille\"\n",
    "doc = nlp(phrase1)"
   ]
  },
  {
   "cell_type": "code",
   "execution_count": 6,
   "metadata": {},
   "outputs": [
    {
     "name": "stdout",
     "output_type": "stream",
     "text": [
      "(aimerais, Paris, biarritz, Marseille)\n",
      "Paris DESTINATION\n",
      "biarritz LOC\n",
      "Marseille LOC\n"
     ]
    }
   ],
   "source": [
    "print(doc.ents)\n",
    "\n",
    "print(doc.ents[1], doc.ents[1].label_)\n",
    "print(doc.ents[2], doc.ents[2].label_)\n",
    "print(doc.ents[3], doc.ents[3].label_)"
   ]
  }
 ],
 "metadata": {
  "kernelspec": {
   "display_name": "Python 3 (ipykernel)",
   "language": "python",
   "name": "python3"
  },
  "language_info": {
   "codemirror_mode": {
    "name": "ipython",
    "version": 3
   },
   "file_extension": ".py",
   "mimetype": "text/x-python",
   "name": "python",
   "nbconvert_exporter": "python",
   "pygments_lexer": "ipython3",
   "version": "3.9.7"
  }
 },
 "nbformat": 4,
 "nbformat_minor": 4
}
