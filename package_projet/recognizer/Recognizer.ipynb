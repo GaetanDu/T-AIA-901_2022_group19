{
 "cells": [
  {
   "cell_type": "code",
   "execution_count": 2,
   "metadata": {},
   "outputs": [
    {
     "name": "stdout",
     "output_type": "stream",
     "text": [
      "Vous Pouvez parler\n",
      "Votre phrase: je veux aller de Paris à Marseille\n"
     ]
    },
    {
     "data": {
      "text/plain": [
       "'je veux aller de Paris à Marseille'"
      ]
     },
     "execution_count": 2,
     "metadata": {},
     "output_type": "execute_result"
    }
   ],
   "source": [
    "from Recognizer import RecognizerRequest\n",
    "\n",
    "RecognizerRequest()"
   ]
  }
 ],
 "metadata": {
  "interpreter": {
   "hash": "dfe2fa9eb000da2c125cea5b26b88bfadcbe34e7a412c1fdc0bfef8311a98cbf"
  },
  "kernelspec": {
   "display_name": "Python 3.9.7 64-bit ('base': conda)",
   "language": "python",
   "name": "python3"
  },
  "language_info": {
   "codemirror_mode": {
    "name": "ipython",
    "version": 3
   },
   "file_extension": ".py",
   "mimetype": "text/x-python",
   "name": "python",
   "nbconvert_exporter": "python",
   "pygments_lexer": "ipython3",
   "version": "3.9.7"
  },
  "orig_nbformat": 4
 },
 "nbformat": 4,
 "nbformat_minor": 2
}
