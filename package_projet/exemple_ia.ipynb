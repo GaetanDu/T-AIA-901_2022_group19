{
 "cells": [
  {
   "cell_type": "code",
   "execution_count": null,
   "metadata": {},
   "outputs": [],
   "source": [
    "import spacy\n",
    "from spacy.language import Language\n",
    "import fr_core_news_sm\n",
    "from spacy_langdetect import LanguageDetector\n",
    "from sklearn.linear_model import LogisticRegression\n",
    "import pandas as pd\n",
    "nlp = spacy.load('fr_core_news_sm')\n",
    "nlp.add_pipe('language_detector_fr2', last=True)\n",
    "\n",
    "@Language.factory(\"language_detector_fr2\")\n",
    "def get_lang_detector(nlp, name):\n",
    "    return LanguageDetector()"
   ]
  },
  {
   "cell_type": "code",
   "execution_count": null,
   "metadata": {},
   "outputs": [],
   "source": [
    "sentence = \"Je veux aller à Paris de Marseille\"\n",
    "doc = nlp(sentence)\n",
    "language_utilise = doc._.language\n",
    "\n",
    "Capitals = dict()\n",
    "num = 0\n",
    "for ent in doc.ents:\n",
    "    if(num == 0):\n",
    "        Capitals['depart'] = ent.text\n",
    "    elif(num == len(Capitals)):\n",
    "        Capitals['destination'] = ent.text\n",
    "    num += 1\n",
    "data.loc[0, 'Ville_1'] = 0\n",
    "data.loc[0, 'Ville_2'] = 1\n",
    "data.loc[0, 'inputs'] = sentence\n",
    "data.loc[1, 'inputs'] = \"Je veux aller de Paris à Marseille\"\n",
    "data.loc[1, 'Ville_1'] = 1\n",
    "data.loc[1, 'Ville_2'] = 0\n",
    "print(data)\n",
    "language_utilise"
   ]
  },
  {
   "cell_type": "code",
   "execution_count": null,
   "metadata": {},
   "outputs": [],
   "source": [
    "from spacy.lang.fr import French\n",
    "import spacy\n",
    "nlp = spacy.load('fr_core_news_md')\n",
    "import string\n",
    "import re\n",
    "\n",
    "def lemmatizer(text):\n",
    "    \n",
    "    text_list = []\n",
    "    tokens = nlp(text)\n",
    "    lemma_list = []\n",
    "    \n",
    "    for token in tokens:\n",
    "        if token in nlp.Defaults.stop_words:\n",
    "            continue\n",
    "        lemma_list.append(token.lemma_)\n",
    "\n",
    "    return lemma_list\n",
    "\n",
    "def preprocessor(text):\n",
    "    if isinstance((text), (str)):\n",
    "        text = text.replace('\\r\\n', ' ')\n",
    "        text = re.sub(\"@\\S+\", \"\", text.lower())\n",
    "        text = re.sub(r'http\\S+', '', text)\n",
    "        text = text.translate(str.maketrans('', '', string.punctuation))\n",
    "        text = re.sub(\"[’«–…]\", ' ', text)\n",
    "        text = text[:-15]\n",
    "    \n",
    "        return text\n",
    "    if isinstance((text), (list)):\n",
    "        return_list = []\n",
    "        for i in range(len(text)):\n",
    "            temp_text = text.replace('\\r\\n', ' ')\n",
    "            temp_text = re.sub(\"@\\S+\", \"\", temp_text.lower())\n",
    "            temp_text = re.sub(r'http\\S+', '', temp_text)\n",
    "            temp_text = temp_text.translate(str.maketrans('', '', string.punctuation))\n",
    "            temp_text = temp_text[:-15]\n",
    "            return_list.append(temp_text)\n",
    "        return(return_list)\n",
    "    raise ValueError()\n",
    "    \n",
    "from sklearn.pipeline import Pipeline\n",
    "from sklearn.feature_extraction.text import TfidfVectorizer\n",
    "import nltk\n",
    "nltk.download('stopwords')\n",
    "from nltk.corpus import stopwords\n",
    "\n",
    "tfidf_vectorizer = TfidfVectorizer(max_df=1, min_df=0,\n",
    "                                   use_idf=True, preprocessor=preprocessor, \n",
    "                                   tokenizer=lemmatizer, ngram_range=(2, 2))\n",
    "\n",
    "X = tfidf_vectorizer.fit_transform(data['inputs'])"
   ]
  },
  {
   "cell_type": "code",
   "execution_count": null,
   "metadata": {},
   "outputs": [],
   "source": [
    "import tensorflow as tf\n",
    "\n",
    "model = tf.keras.Sequential([\n",
    "    tf.keras.layers.Dense(2, activation='softmax')\n",
    "])\n",
    "\n",
    "model.compile(optimizer='adam',\n",
    "              loss=tf.keras.losses.CategoricalCrossentropy(from_logits=False),\n",
    "              metrics=['accuracy'])\n",
    "history = model.fit(x=X.todense(), y=data.iloc[:, 3:].values, epochs=1000, verbose=False)\n"
   ]
  },
  {
   "cell_type": "code",
   "execution_count": null,
   "metadata": {},
   "outputs": [],
   "source": [
    "test = tfidf_vectorizer.transform([\"direction Paris en quittant de Marseille\"])\n",
    "model.predict(test.todense())"
   ]
  }
 ],
 "metadata": {
  "kernelspec": {
   "display_name": "Python 3",
   "language": "python",
   "name": "python3"
  },
  "language_info": {
   "codemirror_mode": {
    "name": "ipython",
    "version": 3
   },
   "file_extension": ".py",
   "mimetype": "text/x-python",
   "name": "python",
   "nbconvert_exporter": "python",
   "pygments_lexer": "ipython3",
   "version": "3.8.3"
  }
 },
 "nbformat": 4,
 "nbformat_minor": 4
}
