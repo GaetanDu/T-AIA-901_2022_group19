{
 "cells": [
  {
   "cell_type": "code",
   "execution_count": 11,
   "id": "dcf982a5",
   "metadata": {},
   "outputs": [
    {
     "name": "stdout",
     "output_type": "stream",
     "text": [
      "you can start to talk\n",
      "fr\n",
      "cest bien du francais\n",
      "bonjour j'aimerais aller de Londres jusqu'à Manchester\n"
     ]
    }
   ],
   "source": [
    "import speech_recognition as sr\n",
    "import langid\n",
    "import spacy \n",
    "from spacy import displacy\n",
    "import wikipedia\n",
    "\n",
    "# Utilisation de Flake8\n",
    "# Programme qui capture un enregistrement via le microphone/fichier audio\n",
    "# Et qui traitera les données enregistré\n",
    "\n",
    "\n",
    "# Fonction de capture de son par le microphone\n",
    "# Check si la capture est en francais ou pas\n",
    "# Si oui retourne le contenu de la capture\n",
    "# Si non vous demande de recommencer l'enregistrement\n",
    "\n",
    "\n",
    "def capture_mic(microphone):\n",
    "    r = sr.Recognizer()\n",
    "    mic = sr.Microphone(device_index=microphone)\n",
    "\n",
    "    with mic as source:\n",
    "        r.adjust_for_ambient_noise(source)\n",
    "        print(\"you can start to talk\")\n",
    "        audio = r.listen(source)\n",
    "    text_data = r.recognize_google(audio, language=\"fr-FR\")\n",
    "\n",
    "    detected = langid.classify(text_data)[0]\n",
    "    print(detected)\n",
    "    if detected == \"fr\":\n",
    "        print(\"cest bien du francais\")\n",
    "        print(text_data)\n",
    "        return text_data\n",
    "    else:\n",
    "        print(\"ce n'est pas du francais veuillez recommencer\")\n",
    "        capture_mic(1)\n",
    "\n",
    "\n",
    "text_to_process = capture_mic(1)"
   ]
  },
  {
   "cell_type": "code",
   "execution_count": 12,
   "id": "de5aa4e4",
   "metadata": {},
   "outputs": [
    {
     "data": {
      "text/html": [
       "<span class=\"tex2jax_ignore\"><div class=\"entities\" style=\"line-height: 2.5; direction: ltr\">bonjour j'aimerais aller \n",
       "<mark class=\"entity\" style=\"background: #aa9cfc; padding: 0.45em 0.6em; margin: 0 0.25em; line-height: 1; border-radius: 0.35em;\">\n",
       "    de Londres\n",
       "    <span style=\"font-size: 0.8em; font-weight: bold; line-height: 1; border-radius: 0.35em; vertical-align: middle; margin-left: 0.5rem\">PERSON</span>\n",
       "</mark>\n",
       " jusqu'à \n",
       "<mark class=\"entity\" style=\"background: #aa9cfc; padding: 0.45em 0.6em; margin: 0 0.25em; line-height: 1; border-radius: 0.35em;\">\n",
       "    Manchester\n",
       "    <span style=\"font-size: 0.8em; font-weight: bold; line-height: 1; border-radius: 0.35em; vertical-align: middle; margin-left: 0.5rem\">PERSON</span>\n",
       "</mark>\n",
       "</div></span>"
      ],
      "text/plain": [
       "<IPython.core.display.HTML object>"
      ]
     },
     "metadata": {},
     "output_type": "display_data"
    }
   ],
   "source": [
    "def Extract_Data(Source):\n",
    "\n",
    "    nlp_instance = spacy.load(\"en_core_web_sm\")\n",
    "    load_data = nlp_instance(Source)\n",
    "    \n",
    "    \n",
    "    data_returned_v1 = displacy.render(load_data, style=\"ent\")\n",
    "    data_returned_v2 = displacy.render(load_data, style=\"dep\") \n",
    "\n",
    "    return data_returned\n",
    "\n",
    "    \n",
    "\n",
    "\n",
    "Extract_Data(text_to_process)"
   ]
  },
  {
   "cell_type": "code",
   "execution_count": null,
   "id": "ce7387c7",
   "metadata": {},
   "outputs": [],
   "source": []
  }
 ],
 "metadata": {
  "kernelspec": {
   "display_name": "Python 3",
   "language": "python",
   "name": "python3"
  },
  "language_info": {
   "codemirror_mode": {
    "name": "ipython",
    "version": 3
   },
   "file_extension": ".py",
   "mimetype": "text/x-python",
   "name": "python",
   "nbconvert_exporter": "python",
   "pygments_lexer": "ipython3",
   "version": "3.8.2"
  }
 },
 "nbformat": 4,
 "nbformat_minor": 5
}
